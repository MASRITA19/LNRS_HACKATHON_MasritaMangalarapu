{
 "cells": [
  {
   "cell_type": "code",
   "execution_count": 1,
   "id": "8421c278-719e-42fc-9200-290b0f4584ce",
   "metadata": {},
   "outputs": [],
   "source": [
    "\n",
    "from tkinter import *\n",
    "from tkinter import filedialog\n",
    "import fpdf\n",
    "import cv2\n",
    "import numpy as np"
   ]
  },
  {
   "cell_type": "code",
   "execution_count": 3,
   "id": "fc108dd5-1648-4cab-86b4-9903ee46df7a",
   "metadata": {},
   "outputs": [],
   "source": [
    "from PIL import Image"
   ]
  },
  {
   "cell_type": "code",
   "execution_count": 7,
   "id": "8b6ba259-ca2a-4065-b69f-a75d52999ebd",
   "metadata": {},
   "outputs": [
    {
     "name": "stdout",
     "output_type": "stream",
     "text": [
      "Requirement already satisfied: pytesseract in c:\\users\\masrita\\anaconda3\\lib\\site-packages (0.3.13)\n",
      "Requirement already satisfied: packaging>=21.3 in c:\\users\\masrita\\anaconda3\\lib\\site-packages (from pytesseract) (23.2)\n",
      "Requirement already satisfied: Pillow>=8.0.0 in c:\\users\\masrita\\anaconda3\\lib\\site-packages (from pytesseract) (10.3.0)\n"
     ]
    }
   ],
   "source": [
    "!pip install pytesseract"
   ]
  },
  {
   "cell_type": "code",
   "execution_count": 5,
   "id": "a36e98a4-a226-45ca-a44d-ee9c62bb279d",
   "metadata": {},
   "outputs": [],
   "source": [
    "import pytesseract"
   ]
  },
  {
   "cell_type": "code",
   "execution_count": 7,
   "id": "de3e3ae7-c633-4c0a-ba18-9ce76fe0448f",
   "metadata": {},
   "outputs": [],
   "source": [
    "pytesseract.pytesseract.tesseract_cmd = r\"C:\\Program Files (x86)\\tesseract.exe\""
   ]
  },
  {
   "cell_type": "code",
   "execution_count": 9,
   "id": "1910d3d5-9a05-4310-b0c2-3c8a88e78e08",
   "metadata": {},
   "outputs": [],
   "source": [
    "from difflib import SequenceMatcher"
   ]
  },
  {
   "cell_type": "code",
   "execution_count": 11,
   "id": "3e0cb10f-fc3e-406d-a1bc-f10c0fb5f6ea",
   "metadata": {},
   "outputs": [],
   "source": [
    "import os\n"
   ]
  },
  {
   "cell_type": "code",
   "execution_count": 13,
   "id": "2c05b1f6-5044-48d8-b094-861040c181f0",
   "metadata": {},
   "outputs": [],
   "source": [
    "def browseFiles():\n",
    "    global result\n",
    "    filename = filedialog.askopenfilename(initialdir = \"/\",title = \"Select a File\",filetypes = ((\"images\",\"*.png *.jpg *.jpeg\"),(\"all files\",\"*.*\")))\n",
    "    if filename == \"\":\n",
    "        return\n",
    "    \n",
    "    # Read image with opencv\n",
    "    img = cv2.imread(filename)\n",
    "\n",
    "    # Convert to gray\n",
    "    img = cv2.cvtColor(img, cv2.COLOR_BGR2GRAY)\n",
    "\n",
    "    # Apply dilation and erosion to remove some noise\n",
    "    kernel = np.ones((1, 1), np.uint8)\n",
    "    img = cv2.dilate(img, kernel, iterations=1)\n",
    "    img = cv2.erode(img, kernel, iterations=1)\n",
    "\n",
    "    # Write image after removed noise\n",
    "    cv2.imwrite(\"removed_noise.png\", img)\n",
    "\n",
    "    #  Apply threshold to get image with only black and white\n",
    "    \n",
    "\n",
    "    # Write the image after apply opencv to do some ...\n",
    "    cv2.imwrite(filename, img)\n",
    "\n",
    "    # Recognize text with tesseract for python\n",
    "    result = pytesseract.image_to_string(Image.open(filename))\n",
    "\n",
    "    # Remove template file\n",
    "    label_file_explorer.configure(text=result)\n",
    "    \n",
    "    # Calculate accuracy\n",
    "    s=\"We start With good\\n\\nBecause all businesses should\\n\\nbe doing something good\"\n",
    "    s1=result\n",
    "    def similar(a, b):\n",
    "        return \"\\nThe accuracy of the model is \"+str(SequenceMatcher(None, a, b).ratio()*100)+\"%\\n\"\n",
    "    print(similar(s,s1))"
   ]
  },
  {
   "cell_type": "code",
   "execution_count": 16,
   "id": "06375613-da27-4395-873b-d912797f8c9f",
   "metadata": {},
   "outputs": [
    {
     "name": "stdout",
     "output_type": "stream",
     "text": [
      "\n",
      "The accuracy of the model is 3.013993541442411%\n",
      "\n"
     ]
    }
   ],
   "source": [
    "def pdf():\n",
    "    global result\n",
    "    pdf = fpdf.FPDF(format='letter')\n",
    "    pdf.add_page()\n",
    "    pdf.set_font(\"Arial\", size=12)\n",
    "    pdf.write(5,result.encode('latin-1', errors='ignore').decode('latin-1'))\n",
    "    pdf.ln()\n",
    "    pdf.output(\"converted.pdf\")\n",
    "    os.startfile(\"converted.pdf\")\n",
    "\n",
    "window = Tk()\n",
    "  \n",
    "# Set window title\n",
    "window.title('File Explorer')\n",
    "  \n",
    "# Set window size\n",
    "window.geometry(\"700x350\")\n",
    "reg_info = Label(window,text = \"Handwritten Text Recognition Using Pytesseract\",width='80',height='2',font= (\"ariel\",12,\"bold\"),fg = \"black\",bg='lightgrey')\n",
    "reg_info.place(x=370,y=18,anchor='center')  \n",
    "#Set window background color\n",
    "window.config(background = \"white\")\n",
    "  \n",
    "# Create a File Explorer label\n",
    "label_file_explorer = Label(window,\n",
    "                            text = \"See the Output Here\",font= (\"ariel\",10,\"bold\"),\n",
    "                            width = 90, height = 12,\n",
    "                            fg = \"blue\")\n",
    "  \n",
    "label_file_explorer.place(x=0,y=35) \n",
    "\n",
    "button_explore = Button(window,\n",
    "                        text = \"Browse Files\",fg=\"white\",bg=\"black\",font= (\"ariel\",10,\"bold\"),width=10,\n",
    "                        command = browseFiles)\n",
    "button_explore.place(x=250,y=270)\n",
    "\n",
    "text=Label(window,text=\"(Select an image)\",bg=\"white\",fg=\"black\",font= (\"ariel\",8,\"bold\"))\n",
    "text.place(x=242,y=300)\n",
    "\n",
    "button1 = Button(window,\n",
    "                        text = \"convert text to pdf\",fg=\"white\",bg=\"black\",font= (\"ariel\",10,\"bold\"),width=15,\n",
    "                        command = pdf)\n",
    "button1.place(x=370,y=270)\n",
    "\n",
    "window.mainloop()"
   ]
  },
  {
   "cell_type": "code",
   "execution_count": null,
   "id": "e2c1a990-fa1d-440f-b827-32cbb6aa8575",
   "metadata": {},
   "outputs": [],
   "source": []
  }
 ],
 "metadata": {
  "kernelspec": {
   "display_name": "Python 3 (ipykernel)",
   "language": "python",
   "name": "python3"
  },
  "language_info": {
   "codemirror_mode": {
    "name": "ipython",
    "version": 3
   },
   "file_extension": ".py",
   "mimetype": "text/x-python",
   "name": "python",
   "nbconvert_exporter": "python",
   "pygments_lexer": "ipython3",
   "version": "3.12.4"
  }
 },
 "nbformat": 4,
 "nbformat_minor": 5
}
